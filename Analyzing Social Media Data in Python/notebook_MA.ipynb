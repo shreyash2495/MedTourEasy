{
 "cells": [
  {
   "cell_type": "markdown",
   "metadata": {
    "dc": {
     "key": "3"
    },
    "deletable": false,
    "editable": false,
    "run_control": {
     "frozen": true
    },
    "tags": [
     "context"
    ]
   },
   "source": [
    "## 1. Local and global thought patterns\n",
    "<p>While we might not be Twitter fans, we have to admit that it has a huge influence on the world (who doesn't know about Trump's tweets). Twitter data is not only gold in terms of insights, but <strong><em>Twitter-storms are available for analysis in near real-time</em></strong>. This means we can learn about the big waves of thoughts and moods around the world as they arise. </p>\n",
    "<p>As any place filled with riches, Twitter has <em>security guards</em> blocking us from laying our hands on the data right away ⛔️ Some  authentication steps (really straightforward) are needed to call their APIs for data collection. Since our goal today is learning to extract insights from data, we have already gotten a green-pass from security ✅ Our data is ready for usage in the datasets folder — we can concentrate on the fun part! 🕵️‍♀️🌎\n",
    "<br>\n",
    "<br>\n",
    "<img src=\"https://assets.datacamp.com/production/project_760/img/tweets_influence.png\" style=\"width: 300px\">\n",
    "<hr>\n",
    "<br>Twitter provides both global and local trends. Let's load and inspect data for topics that were hot worldwide (WW) and in the United States (US) at the moment of query  — snapshot of JSON response from the call to Twitter's <i>GET trends/place</i> API.</p>\n",
    "<p><i><b>Note</b>: <a href=\"https://developer.twitter.com/en/docs/trends/trends-for-location/api-reference/get-trends-place.html\">Here</a> is the documentation for this call, and <a href=\"https://developer.twitter.com/en/docs/api-reference-index.html\">here</a> a full overview on Twitter's APIs.</i></p>"
   ]
  },
  {
   "cell_type": "code",
   "execution_count": 0,
   "metadata": {
    "collapsed": true,
    "dc": {
     "key": "3"
    },
    "tags": [
     "sample_code"
    ]
   },
   "outputs": [],
   "source": [
    "# Loading json module\n",
    "# ... YOUR CODE FOR TASK 1 ...\n",
    "\n",
    "# Load WW_trends and US_trends data into the the given variables respectively\n",
    "WW_trends = ...\n",
    "US_trends = ... \n",
    "\n",
    "# Inspecting data by printing out WW_trends and US_trends variables\n",
    "# ... YOUR CODE FOR TASK 1 ..."
   ]
  },
  {
   "cell_type": "markdown",
   "metadata": {
    "dc": {
     "key": "10"
    },
    "deletable": false,
    "editable": false,
    "run_control": {
     "frozen": true
    },
    "tags": [
     "context"
    ]
   },
   "source": [
    "## 2. Prettifying the output\n",
    "<p>Our data was hard to read! Luckily, we can resort to the <i>json.dumps()</i> method to have it formatted as a pretty JSON string.</p>"
   ]
  },
  {
   "cell_type": "code",
   "execution_count": 0,
   "metadata": {
    "collapsed": true,
    "dc": {
     "key": "10"
    },
    "tags": [
     "sample_code"
    ]
   },
   "outputs": [],
   "source": [
    "# Pretty-printing the results. First WW and then US trends.\n",
    "\n",
    "print(\"WW trends:\")\n",
    "# ... YOUR CODE FOR TASK 2 ...\n",
    "\n",
    "print(\"\\n\", \"US trends:\")\n",
    "# ... YOUR CODE FOR TASK 2 ..."
   ]
  },
  {
   "cell_type": "markdown",
   "metadata": {
    "dc": {
     "key": "17"
    },
    "deletable": false,
    "editable": false,
    "run_control": {
     "frozen": true
    },
    "tags": [
     "context"
    ]
   },
   "source": [
    "## 3.  Finding common trends\n",
    "<p>🕵️‍♀️ From the pretty-printed results (output of the previous task), we can observe that:</p>\n",
    "<ul>\n",
    "<li><p>We have an array of trend objects having: the name of the trending topic, the query parameter that can be used to search for the topic on Twitter-Search, the search URL and the volume of tweets for the last 24 hours, if available. (The trends get updated every 5 mins.)</p></li>\n",
    "<li><p>At query time <b><i>#BeratKandili, #GoodFriday</i></b> and <b><i>#WeLoveTheEarth</i></b> were trending WW.</p></li>\n",
    "<li><p><i>\"tweet_volume\"</i> tell us that <i>#WeLoveTheEarth</i> was the most popular among the three.</p></li>\n",
    "<li><p>Results are not sorted by <i>\"tweet_volume\"</i>. </p></li>\n",
    "<li><p>There are some trends which are unique to the US.</p></li>\n",
    "</ul>\n",
    "<hr>\n",
    "<p>It’s easy to skim through the two sets of trends and spot common trends, but let's not do \"manual\" work. We can use Python’s <strong>set</strong> data structure to find common trends — we can iterate through the two trends objects, cast the lists of names to sets, and call the intersection method to get the common names between the two sets.</p>"
   ]
  },
  {
   "cell_type": "code",
   "execution_count": 0,
   "metadata": {
    "collapsed": true,
    "dc": {
     "key": "17"
    },
    "tags": [
     "sample_code"
    ]
   },
   "outputs": [],
   "source": [
    "# Extracting all the WW trend names from WW_trends\n",
    "world_trends = set([... for trend in ...])\n",
    "\n",
    "# Extracting all the US trend names from US_trends\n",
    "us_trends = set([... for trend in ...]) \n",
    "\n",
    "# Getting the intersection of the two sets of trends\n",
    "common_trends = ...\n",
    "\n",
    "# Inspecting the data\n",
    "print(world_trends, \"\\n\")\n",
    "print(us_trends, \"\\n\")\n",
    "print (len(common_trends), \"common trends:\", common_trends)"
   ]
  },
  {
   "cell_type": "markdown",
   "metadata": {
    "dc": {
     "key": "24"
    },
    "deletable": false,
    "editable": false,
    "run_control": {
     "frozen": true
    },
    "tags": [
     "context"
    ]
   },
   "source": [
    "## 4. Exploring the hot trend\n",
    "<p>🕵️‍♀️ From the intersection (last output) we can see that, out of the two sets of trends (each of size 50), we have 11 overlapping topics. In particular, there is one common trend that sounds very interesting: <i><b>#WeLoveTheEarth</b></i> — so good to see that <em>Twitteratis</em> are unanimously talking about loving Mother Earth! 💚 </p>\n",
    "<p><i><b>Note</b>: We could have had no overlap or a much higher overlap; when we did the query for getting the trends, people in the US could have been on fire obout topics only relevant to them.</i>\n",
    "<br>\n",
    "<img src=\"https://assets.datacamp.com/production/project_760/img/earth.jpg\" style=\"width: 500px\"></p>\n",
    "<div style=\"text-align: center;\"><i>Image Source:Official Music Video Cover: https://welovetheearth.org/video/</i></div>\n",
    "<hr>\n",
    "<p>We have found a hot-trend, #WeLoveTheEarth. Now let's see what story it is screaming to tell us! <br>\n",
    "If we query Twitter's search API with this hashtag as query parameter, we get back actual tweets related to it. We have the response from the search API stored in the datasets folder as <i>'WeLoveTheEarth.json'</i>. So let's load this dataset and do a deep dive in this trend.</p>"
   ]
  },
  {
   "cell_type": "code",
   "execution_count": 0,
   "metadata": {
    "collapsed": true,
    "dc": {
     "key": "24"
    },
    "tags": [
     "sample_code"
    ]
   },
   "outputs": [],
   "source": [
    "# Loading the data\n",
    "tweets = ...\n",
    "\n",
    "# Inspecting some tweets\n",
    "tweets[0:2]"
   ]
  },
  {
   "cell_type": "markdown",
   "metadata": {
    "dc": {
     "key": "31"
    },
    "deletable": false,
    "editable": false,
    "run_control": {
     "frozen": true
    },
    "tags": [
     "context"
    ]
   },
   "source": [
    "## 5. Digging deeper\n",
    "<p>🕵️‍♀️ Printing the first two tweet items makes us realize that there’s a lot more to a tweet than what we normally think of as a tweet — there is a lot more than just a short text!</p>\n",
    "<hr>\n",
    "<p>But hey, let's not get overwhemled by all the information in a tweet object! Let's focus on a few interesting fields and see if we can find any hidden insights there. </p>"
   ]
  },
  {
   "cell_type": "code",
   "execution_count": 0,
   "metadata": {
    "collapsed": true,
    "dc": {
     "key": "31"
    },
    "tags": [
     "sample_code"
    ]
   },
   "outputs": [],
   "source": [
    "# Extracting the text of all the tweets from the tweet object\n",
    "texts = [... for tweet in tweets]\n",
    "\n",
    "# Extracting screen names of users tweeting about #WeLoveTheEarth\n",
    "names = [... for tweet in tweets for ... in ...]\n",
    "\n",
    "# Extracting all the hashtags being used when talking about this topic\n",
    "hashtags = ...\n",
    "\n",
    "# Inspecting the first 10 results\n",
    "print (json.dumps(texts[0:10], indent=1),\"\\n\")\n",
    "print (json.dumps(names[0:10], indent=1),\"\\n\")\n",
    "print (json.dumps(hashtags[0:10], indent=1),\"\\n\")"
   ]
  },
  {
   "cell_type": "markdown",
   "metadata": {
    "dc": {
     "key": "38"
    },
    "deletable": false,
    "editable": false,
    "run_control": {
     "frozen": true
    },
    "tags": [
     "context"
    ]
   },
   "source": [
    "## 6. Frequency analysis\n",
    "<p>🕵️‍♀️ Just from the first few results of the last extraction, we can deduce that:</p>\n",
    "<ul>\n",
    "<li>We are talking about a song about loving the Earth.</li>\n",
    "<li>A lot of big artists are the forces behind this Twitter wave, especially Lil Dicky.</li>\n",
    "<li>Ed Sheeran was some cute koala in the song — \"EdSheeranTheKoala\" hashtag! 🐨</li>\n",
    "</ul>\n",
    "<hr>\n",
    "<p>Observing the first 10 items of the interesting fields gave us a sense of the data. We can now take a closer look by doing a simple, but very useful, exercise — computing frequency distributions. Starting simple with frequencies is generally a good approach; it helps in getting ideas about how to proceed further.</p>"
   ]
  },
  {
   "cell_type": "code",
   "execution_count": 0,
   "metadata": {
    "collapsed": true,
    "dc": {
     "key": "38"
    },
    "tags": [
     "sample_code"
    ]
   },
   "outputs": [],
   "source": [
    "# Importing modules\n",
    "# ... YOUR CODE FOR TASK 6 ...\n",
    "\n",
    "# Counting occcurrences/ getting frequency dist of all names and hashtags\n",
    "for item in [names, hashtags]:\n",
    "    c = ... \n",
    "    # Inspecting the 10 most common items in c\n",
    "    print (c.most_common(10), \"\\n\")"
   ]
  },
  {
   "cell_type": "markdown",
   "metadata": {
    "dc": {
     "key": "45"
    },
    "deletable": false,
    "editable": false,
    "run_control": {
     "frozen": true
    },
    "tags": [
     "context"
    ]
   },
   "source": [
    "## 7. Activity around the trend\n",
    "<p>🕵️‍♀️ Based on the last frequency distributions we can further build-up on our deductions:</p>\n",
    "<ul>\n",
    "<li>We can more safely say that this was a music video about Earth (hashtag 'EarthMusicVideo') by Lil Dicky. </li>\n",
    "<li>DiCaprio is not a music artist, but he was involved as well <em>(Leo is an environmentalist so not a surprise to see his name pop up here)</em>. </li>\n",
    "<li>We can also say that the video was released on a Friday; very likely on April 19th. </li>\n",
    "</ul>\n",
    "<p><em>We have been able to extract so many insights. Quite powerful, isn't it?!</em></p>\n",
    "<hr>\n",
    "<p>Let's further analyze the data to find patterns in the activity around the tweets — <b>did all retweets occur around a particular tweet? </b><br></p>\n",
    "<p>If a tweet has been retweeted, the <i>'retweeted_status'</i>  field gives many interesting details about the original tweet itself and its author. </p>\n",
    "<p>We can measure a tweet's popularity by analyzing the <b><i>retweet<em>count</em></i></b> and <b><i>favoritecount</i></b> fields. But let's also extract the number of followers of the tweeter  —  we have a lot of celebs in the picture, so <b>can we tell if their advocating for #WeLoveTheEarth influenced a significant proportion of their followers?</b></p>\n",
    "<hr>\n",
    "<p><i><b>Note</b>: The retweet_count gives us the total number of times the original tweet was retweeted. It should be the same in both the original tweet and all the next retweets. Tinkering around with some sample tweets and the official documentaiton are the way to get your head around the mnay fields.</i></p>"
   ]
  },
  {
   "cell_type": "code",
   "execution_count": 0,
   "metadata": {
    "collapsed": true,
    "dc": {
     "key": "45"
    },
    "tags": [
     "sample_code"
    ]
   },
   "outputs": [],
   "source": [
    "# Extracting useful information from retweets\n",
    "retweets = [(..., ..., ..., ..., ...) for tweet in tweets if 'retweeted_status' in tweet]"
   ]
  },
  {
   "cell_type": "markdown",
   "metadata": {
    "dc": {
     "key": "52"
    },
    "deletable": false,
    "editable": false,
    "run_control": {
     "frozen": true
    },
    "tags": [
     "context"
    ]
   },
   "source": [
    "## 8. A table that speaks a 1000 words\n",
    "<p>Let's manipulate the data further and visualize it in a better and richer way — <em>\"looks matter!\"</em></p>"
   ]
  },
  {
   "cell_type": "code",
   "execution_count": 0,
   "metadata": {
    "collapsed": true,
    "dc": {
     "key": "52"
    },
    "tags": [
     "sample_code"
    ]
   },
   "outputs": [],
   "source": [
    "# Importing modules\n",
    "import matplotlib.pyplot as plt\n",
    "import pandas as pd\n",
    "\n",
    "# Create a DataFrame and visualize the data in a pretty and insightful format\n",
    "df = ...\n",
    "\n",
    "df.style.background_gradient()"
   ]
  },
  {
   "cell_type": "markdown",
   "metadata": {
    "dc": {
     "key": "59"
    },
    "deletable": false,
    "editable": false,
    "run_control": {
     "frozen": true
    },
    "tags": [
     "context"
    ]
   },
   "source": [
    "## 9. Analyzing used languages\n",
    "<p>🕵️‍♀️ Our table tells us that:</p>\n",
    "<ul>\n",
    "<li>Lil Dicky's followers reacted the most — 42.4% of his followers liked his first tweet. </li>\n",
    "<li>Even if celebrities like Katy Perry and Ellen have a huuge Twitter following, their followers hardly reacted, e.g., only 0.0098% of Katy's followers liked her tweet. </li>\n",
    "<li>While Leo got the most likes and retweets in terms of counts, his first tweet was only liked by 2.19% of his followers. </li>\n",
    "</ul>\n",
    "<p>The large differences in reactions could be explained by the fact that this was Lil Dicky's music video. Leo still got more traction than Katy or Ellen because he played some major role in this initiative.</p>\n",
    "<hr>\n",
    "<p>Can we find some more interesting patterns in the data? From the text of the tweets, we could spot different languages, so let's create a frequency distribution for the languages.</p>"
   ]
  },
  {
   "cell_type": "code",
   "execution_count": 0,
   "metadata": {
    "collapsed": true,
    "dc": {
     "key": "59"
    },
    "tags": [
     "sample_code"
    ]
   },
   "outputs": [],
   "source": [
    "# Extracting language for each tweet and appending it to the list of languages\n",
    "tweets_languages = []\n",
    "for tweet in tweets: \n",
    "    ...\n",
    "\n",
    "# Plotting the distribution of languages\n",
    "%matplotlib inline\n",
    "# ... YOUR CODE FOR TASK 9 ..."
   ]
  },
  {
   "cell_type": "markdown",
   "metadata": {
    "dc": {
     "key": "66"
    },
    "deletable": false,
    "editable": false,
    "run_control": {
     "frozen": true
    },
    "tags": [
     "context"
    ]
   },
   "source": [
    "## 10. Final thoughts\n",
    "<p>🕵️‍♀️ The last histogram tells us that:</p>\n",
    "<ul>\n",
    "<li>Most of the tweets were in English.</li>\n",
    "<li>Polish, Italian and Spanish were the next runner-ups. </li>\n",
    "<li>There were a lot of tweets with a language alien to Twitter (lang = 'und'). </li>\n",
    "</ul>\n",
    "<p>Why is this sort of information useful? Because it can allow us to get an understanding of the \"category\" of people interested in this topic (clustering). We could also analyze the device type used by the Twitteratis, <code>tweet['source']</code>, to answer questions like, <strong>\"Does owning an Apple compared to Andorid influences people's propensity towards this trend?\"</strong>. I will leave that as a <strong>further exercise</strong> for you!</p>\n",
    "<p><img src=\"https://assets.datacamp.com/production/project_760/img/languages_world_map.png\" style=\"width: 500px\"></p>\n",
    "<hr>\n",
    "<p><span style=\"color:#41859e\">\n",
    "What an exciting journey it has been! We started almost clueless, and here we are.. rich in insights. </span></p>\n",
    "<p><span style=\"color:#41859e\">\n",
    "From location based comparisons to analyzing the activity around a tweet to finding patterns from languages and devices, we have covered a lot today — let's give ourselves <b>a well-deserved pat on the back!</b> ✋\n",
    "</span>\n",
    "<br><br></p>\n",
    "<div style=\"text-align: center;color:#41859e\"><b><i>Magic Formula = Data + Python + Creativity + Curiosity</i></b></div>\n",
    "<p><img src=\"https://assets.datacamp.com/production/project_760/img/finish_line.jpg\" style=\"width: 500px\"></p>"
   ]
  },
  {
   "cell_type": "code",
   "execution_count": 0,
   "metadata": {
    "collapsed": true,
    "dc": {
     "key": "66"
    },
    "tags": [
     "sample_code"
    ]
   },
   "outputs": [],
   "source": [
    "# Congratulations!\n",
    "print(\"High Five!!!\")"
   ]
  }
 ],
 "metadata": {
  "kernelspec": {
   "display_name": "Python 3",
   "language": "python",
   "name": "python3"
  },
  "language_info": {
   "codemirror_mode": {
    "name": "ipython",
    "version": 3
   },
   "file_extension": ".py",
   "mimetype": "text/x-python",
   "name": "python",
   "nbconvert_exporter": "python",
   "pygments_lexer": "ipython3",
   "version": "3.7.4"
  }
 },
 "nbformat": 4,
 "nbformat_minor": 2
}
